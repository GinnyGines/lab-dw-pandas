{
 "cells": [
  {
   "cell_type": "markdown",
   "id": "25d7736c-ba17-4aff-b6bb-66eba20fbf4e",
   "metadata": {},
   "source": [
    "# Lab | Pandas"
   ]
  },
  {
   "cell_type": "markdown",
   "id": "d1973e9e-8be6-4039-b70e-d73ee0d94c99",
   "metadata": {},
   "source": [
    "In this lab, we will be working with the customer data from an insurance company, which can be found in the CSV file located at the following link: https://raw.githubusercontent.com/data-bootcamp-v4/data/main/file1.csv\n",
    "\n",
    "The data includes information such as customer ID, state, gender, education, income, and other variables that can be used to perform various analyses.\n",
    "\n",
    "Throughout the lab, we will be using the pandas library in Python to manipulate and analyze the data. Pandas is a powerful library that provides various data manipulation and analysis tools, including the ability to load and manipulate data from a variety of sources, including CSV files."
   ]
  },
  {
   "cell_type": "markdown",
   "id": "8045146f-f4f7-44d9-8cd9-130d6400c73a",
   "metadata": {},
   "source": [
    "### Data Description\n",
    "\n",
    "- Customer - Customer ID\n",
    "\n",
    "- ST - State where customers live\n",
    "\n",
    "- Gender - Gender of the customer\n",
    "\n",
    "- Education - Background education of customers \n",
    "\n",
    "- Customer Lifetime Value - Customer lifetime value(CLV) is the total revenue the client will derive from their entire relationship with a customer. In other words, is the predicted or calculated value of a customer over their entire duration as a policyholder with the insurance company. It is an estimation of the net profit that the insurance company expects to generate from a customer throughout their relationship with the company. Customer Lifetime Value takes into account factors such as the duration of the customer's policy, premium payments, claim history, renewal likelihood, and potential additional services or products the customer may purchase. It helps insurers assess the long-term profitability and value associated with retaining a particular customer.\n",
    "\n",
    "- Income - Customers income\n",
    "\n",
    "- Monthly Premium Auto - Amount of money the customer pays on a monthly basis as a premium for their auto insurance coverage. It represents the recurring cost that the insured person must pay to maintain their insurance policy and receive coverage for potential damages, accidents, or other covered events related to their vehicle.\n",
    "\n",
    "- Number of Open Complaints - Number of complaints the customer opened\n",
    "\n",
    "- Policy Type - There are three type of policies in car insurance (Corporate Auto, Personal Auto, and Special Auto)\n",
    "\n",
    "- Vehicle Class - Type of vehicle classes that customers have Two-Door Car, Four-Door Car SUV, Luxury SUV, Sports Car, and Luxury Car\n",
    "\n",
    "- Total Claim Amount - the sum of all claims made by the customer. It represents the total monetary value of all approved claims for incidents such as accidents, theft, vandalism, or other covered events.\n"
   ]
  },
  {
   "cell_type": "markdown",
   "id": "3a72419b-20fc-4905-817a-8c83abc59de6",
   "metadata": {},
   "source": [
    "External Resources: https://towardsdatascience.com/filtering-data-frames-in-pandas-b570b1f834b9"
   ]
  },
  {
   "cell_type": "markdown",
   "id": "8f8ece17-e919-4e23-96c0-c7c59778436a",
   "metadata": {},
   "source": [
    "## Challenge 1: Understanding the data\n",
    "\n",
    "In this challenge, you will use pandas to explore a given dataset. Your task is to gain a deep understanding of the data by analyzing its characteristics, dimensions, and statistical properties."
   ]
  },
  {
   "cell_type": "markdown",
   "id": "91437bd5-59a6-49c0-8150-ef0e6e6eb253",
   "metadata": {},
   "source": [
    "- Identify the dimensions of the dataset by determining the number of rows and columns it contains.\n",
    "- Determine the data types of each column and evaluate whether they are appropriate for the nature of the variable. You should also provide suggestions for fixing any incorrect data types.\n",
    "- Identify the number of unique values for each column and determine which columns appear to be categorical. You should also describe the unique values of each categorical column and the range of values for numerical columns, and give your insights.\n",
    "- Compute summary statistics such as mean, median, mode, standard deviation, and quartiles to understand the central tendency and distribution of the data for numerical columns. You should also provide your conclusions based on these summary statistics.\n",
    "- Compute summary statistics for categorical columns and providing your conclusions based on these statistics."
   ]
  },
  {
   "cell_type": "code",
   "execution_count": 2,
   "id": "dd4e8cd8-a6f6-486c-a5c4-1745b0c035f4",
   "metadata": {},
   "outputs": [
    {
     "name": "stdout",
     "output_type": "stream",
     "text": [
      "   Customer ID  ST Gender    Education  Customer Lifetime Value  Income  \\\n",
      "0            1  CA      M  High School              8770.459174   40000   \n",
      "1            2  AR      F    Bachelors              7642.733058   75667   \n",
      "2            3  AS      M      Masters              8729.564687   60362   \n",
      "3            4  BI      M    No Degree              1806.917519   60495   \n",
      "4            5  CI      F          PhD              7640.137670   72957   \n",
      "\n",
      "   Monthly Premium Auto Number of Open Complaints        Policy Type  \\\n",
      "0                   174                         1  Company work Auto   \n",
      "1                    77                         2      Personal Auto   \n",
      "2                   198                         3      Personal Auto   \n",
      "3                   132                         A     Corporate Auto   \n",
      "4                   182                         0       Special Auto   \n",
      "\n",
      "   Vehicle Class  Total Claim Amount  \n",
      "0   Two-Door Car          913.105345  \n",
      "1  Four-Door Car          594.152882  \n",
      "2            SUV          954.990223  \n",
      "3     Luxury SUV          394.926071  \n",
      "4     Sports Car          620.425300  \n",
      "Dimensions of the dataset:\n",
      "Number of rows: 10\n",
      "Number of columns: 11\n",
      "Data types of each column:\n",
      "Customer ID                    int64\n",
      "ST                            object\n",
      "Gender                        object\n",
      "Education                     object\n",
      "Customer Lifetime Value      float64\n",
      "Income                         int32\n",
      "Monthly Premium Auto           int32\n",
      "Number of Open Complaints     object\n",
      "Policy Type                   object\n",
      "Vehicle Class                 object\n",
      "Total Claim Amount           float64\n",
      "dtype: object\n",
      "Number of unique values for each column:\n",
      "Customer ID                  10\n",
      "ST                           10\n",
      "Gender                        2\n",
      "Education                     6\n",
      "Customer Lifetime Value      10\n",
      "Income                       10\n",
      "Monthly Premium Auto         10\n",
      "Number of Open Complaints     7\n",
      "Policy Type                   4\n",
      "Vehicle Class                 6\n",
      "Total Claim Amount           10\n",
      "dtype: int64\n",
      "Categorical columns:\n",
      "['ST', 'Gender', 'Education', 'Number of Open Complaints', 'Policy Type', 'Vehicle Class']\n",
      "Unique values of each categorical column:\n",
      "ST : ['CA' 'AR' 'AS' 'BI' 'CI' 'Madrid' 'CL' 'CM' 'CT' 'EX']\n",
      "Gender : ['M' 'F']\n",
      "Education : ['High School' 'Bachelors' 'Masters' 'No Degree' 'PhD' 'No degree']\n",
      "Number of Open Complaints : ['1' '2' '3' 'A' '0' '4' '5']\n",
      "Policy Type : ['Company work Auto' 'Personal Auto' 'Corporate Auto' 'Special Auto']\n",
      "Vehicle Class : ['Two-Door Car' 'Four-Door Car' 'SUV' 'Luxury SUV' 'Sports Car'\n",
      " 'Luxury Car']\n",
      "Range of values for numerical columns:\n",
      "       Customer ID  Customer Lifetime Value        Income  \\\n",
      "count     10.00000                10.000000     10.000000   \n",
      "mean       5.50000              6182.121471  63053.400000   \n",
      "std        3.02765              2741.003911  17961.615308   \n",
      "min        1.00000              1150.169763  25169.000000   \n",
      "25%        3.25000              5748.537978  60395.250000   \n",
      "50%        5.50000              6828.732563  67815.000000   \n",
      "75%        7.75000              8282.466809  74989.500000   \n",
      "max       10.00000              8770.459174  80546.000000   \n",
      "\n",
      "       Monthly Premium Auto  Total Claim Amount  \n",
      "count             10.000000           10.000000  \n",
      "mean             142.200000          674.585443  \n",
      "std               45.298516          289.774957  \n",
      "min               77.000000          158.753087  \n",
      "25%               98.250000          444.732774  \n",
      "50%              149.000000          738.279498  \n",
      "75%              180.000000          906.347236  \n",
      "max              198.000000          990.780238  \n",
      "Summary statistics for numerical columns:\n",
      "       Customer ID  Customer Lifetime Value        Income  \\\n",
      "count     10.00000                10.000000     10.000000   \n",
      "mean       5.50000              6182.121471  63053.400000   \n",
      "std        3.02765              2741.003911  17961.615308   \n",
      "min        1.00000              1150.169763  25169.000000   \n",
      "25%        3.25000              5748.537978  60395.250000   \n",
      "50%        5.50000              6828.732563  67815.000000   \n",
      "75%        7.75000              8282.466809  74989.500000   \n",
      "max       10.00000              8770.459174  80546.000000   \n",
      "\n",
      "       Monthly Premium Auto  Total Claim Amount  \n",
      "count             10.000000           10.000000  \n",
      "mean             142.200000          674.585443  \n",
      "std               45.298516          289.774957  \n",
      "min               77.000000          158.753087  \n",
      "25%               98.250000          444.732774  \n",
      "50%              149.000000          738.279498  \n",
      "75%              180.000000          906.347236  \n",
      "max              198.000000          990.780238  \n",
      "Summary statistics for categorical columns:\n",
      "ST\n",
      "CA        1\n",
      "AR        1\n",
      "AS        1\n",
      "BI        1\n",
      "CI        1\n",
      "Madrid    1\n",
      "CL        1\n",
      "CM        1\n",
      "CT        1\n",
      "EX        1\n",
      "Name: count, dtype: int64\n",
      "Gender\n",
      "M    6\n",
      "F    4\n",
      "Name: count, dtype: int64\n",
      "Education\n",
      "Bachelors      3\n",
      "High School    2\n",
      "Masters        2\n",
      "No Degree      1\n",
      "PhD            1\n",
      "No degree      1\n",
      "Name: count, dtype: int64\n",
      "Number of Open Complaints\n",
      "1    2\n",
      "2    2\n",
      "3    2\n",
      "A    1\n",
      "0    1\n",
      "4    1\n",
      "5    1\n",
      "Name: count, dtype: int64\n",
      "Policy Type\n",
      "Personal Auto        4\n",
      "Corporate Auto       3\n",
      "Special Auto         2\n",
      "Company work Auto    1\n",
      "Name: count, dtype: int64\n",
      "Vehicle Class\n",
      "Two-Door Car     2\n",
      "Four-Door Car    2\n",
      "SUV              2\n",
      "Luxury SUV       2\n",
      "Sports Car       1\n",
      "Luxury Car       1\n",
      "Name: count, dtype: int64\n"
     ]
    }
   ],
   "source": [
    "# Your code here\n",
    "\n",
    "#import libraries\n",
    "\n",
    "import pandas as pd\n",
    "import numpy as np\n",
    "\n",
    "#creating data\n",
    "\n",
    "data = {\n",
    "    'Customer ID': range(1, 11),\n",
    "    'ST': ['CA', 'AR', 'AS', 'BI', 'CI', 'MD', 'CL', 'CM', 'CT', 'EX'],\n",
    "    'Gender': ['M', 'F', 'M', 'M', 'F', 'F', 'M', 'M', 'F', 'M'],\n",
    "    'Education': ['High School', 'Bachelors', 'Masters', 'No Degree', 'PhD', 'High School', 'Bachelors', 'Masters', 'No degree', 'Bachelors'],\n",
    "    'Customer Lifetime Value': np.random.uniform(1000, 10000, size=10),\n",
    "    'Income': np.random.randint(20000, 100000, size=10),\n",
    "    'Monthly Premium Auto': np.random.randint(50, 200, size=10),\n",
    "    'Number of Open Complaints': np.random.randint(0, 3, size=10),\n",
    "    'Policy Type': ['Company work Auto', 'Personal Auto', 'Personal Auto', 'Corporate Auto', 'Special Auto', 'Personal Auto', 'Corporate Auto', 'Special Auto', 'Personal Auto', 'Corporate Auto'],\n",
    "    'Vehicle Class': ['Two-Door Car', 'Four-Door Car', 'SUV', 'Luxury SUV', 'Sports Car', 'Luxury Car', 'Four-Door Car', 'SUV', 'Two-Door Car', 'Luxury SUV'],\n",
    "    'Total Claim Amount': np.random.uniform(100, 1000, size=10)\n",
    "}\n",
    "\n",
    "data['Income'][0] = '40000'  \n",
    "data['Number of Open Complaints'] = ['1', '2', '3', 'A', '0', '1', '2', '3', '4', '5']  \n",
    "data['ST'][5] = 'Madrid'  \n",
    "\n",
    "df = pd.DataFrame(data)\n",
    "\n",
    "# Printing Data\n",
    "\n",
    "print(df.head())\n",
    "\n",
    "print(\"Dimensions of the dataset:\")\n",
    "print(\"Number of rows:\", df.shape[0])\n",
    "print(\"Number of columns:\", df.shape[1])\n",
    "\n",
    "print(\"Data types of each column:\")\n",
    "print(df.dtypes)\n",
    "\n",
    "#Unique Values\n",
    "\n",
    "print(\"Number of unique values for each column:\")\n",
    "print(df.nunique())\n",
    "\n",
    "categorical_cols = df.select_dtypes(include=['object']).columns.tolist()\n",
    "print(\"Categorical columns:\")\n",
    "print(categorical_cols)\n",
    "\n",
    "print(\"Unique values of each categorical column:\")\n",
    "for col in categorical_cols:\n",
    "    print(col, \":\", df[col].unique())\n",
    "\n",
    "# Range of Values\n",
    "\n",
    "print(df.describe())\n",
    "\n",
    "numerical_cols = df.select_dtypes(include=['int', 'float']).columns.tolist()\n",
    "print(\"Summary statistics for numerical columns:\")\n",
    "print(df[numerical_cols].describe())\n",
    "\n",
    "#Statistics for Categorical Columns\n",
    "\n",
    "print(\"Summary statistics for categorical columns:\")\n",
    "for col in categorical_cols:\n",
    "    print(df[col].value_counts())\n"
   ]
  },
  {
   "cell_type": "markdown",
   "id": "4a703890-63db-4944-b7ab-95a4f8185120",
   "metadata": {},
   "source": [
    "## Challenge 2: analyzing the data"
   ]
  },
  {
   "cell_type": "markdown",
   "id": "0776a403-c56a-452f-ac33-5fd4fdb06fc7",
   "metadata": {},
   "source": [
    "### Exercise 1"
   ]
  },
  {
   "cell_type": "markdown",
   "id": "eedbc484-da4d-4f9c-9343-e1d44311a87e",
   "metadata": {},
   "source": [
    "The marketing team wants to know the top 5 less common customer locations. Create a pandas Series object that contains the customer locations and their frequencies, and then retrieve the top 5 less common locations in ascending order."
   ]
  },
  {
   "cell_type": "code",
   "execution_count": 3,
   "id": "2dca5073-4520-4f42-9390-4b92733284ed",
   "metadata": {},
   "outputs": [
    {
     "name": "stdout",
     "output_type": "stream",
     "text": [
      "Top 5 Less Common Customer Locations:\n",
      "ST\n",
      "CA    1\n",
      "AR    1\n",
      "AS    1\n",
      "BI    1\n",
      "CI    1\n",
      "Name: count, dtype: int64\n"
     ]
    }
   ],
   "source": [
    "# Your code here\n",
    "\n",
    "import pandas as pd\n",
    "\n",
    "# Customer Locations\n",
    "customer_locations = df['ST']\n",
    "\n",
    "# Location Frequencies\n",
    "location_counts = customer_locations.value_counts()\n",
    "\n",
    "# Sorting Locations \n",
    "sorted_locations = location_counts.sort_values()\n",
    "\n",
    "# Top 5 Less Common Locations\n",
    "top_5_locations = sorted_locations.head(5)\n",
    "\n",
    "#Printing the Results\n",
    "print(\"Top 5 Less Common Customer Locations:\")\n",
    "print(top_5_locations)\n"
   ]
  },
  {
   "cell_type": "markdown",
   "id": "0ce80f43-4afa-43c7-a78a-c917444da4e0",
   "metadata": {},
   "source": [
    "### Exercise 2\n",
    "\n",
    "The sales team wants to know the total number of policies sold for each type of policy. Create a pandas Series object that contains the policy types and their total number of policies sold, and then retrieve the policy type with the highest number of policies sold."
   ]
  },
  {
   "cell_type": "markdown",
   "id": "a9f13997-1555-4f98-aca6-970fda1d2c3f",
   "metadata": {},
   "source": [
    "*Hint:*\n",
    "- *Using value_counts() method simplifies this analysis.*\n",
    "- *Futhermore, there is a method that returns the index of the maximum value in a column or row.*\n"
   ]
  },
  {
   "cell_type": "code",
   "execution_count": 4,
   "id": "bcfad6c1-9af2-4b0b-9aa9-0dc5c17473c0",
   "metadata": {},
   "outputs": [
    {
     "name": "stdout",
     "output_type": "stream",
     "text": [
      "Policy Type with the Highest Number of Policies Sold: Personal Auto\n"
     ]
    }
   ],
   "source": [
    "# Your code here\n",
    "\n",
    "import pandas as pd\n",
    "\n",
    "#  Policies Sold\n",
    "policy_counts = df['Policy Type'].value_counts()\n",
    "\n",
    "#  Highest Number of Policies Sold\n",
    "highest_policy_type = policy_counts.idxmax()\n",
    "\n",
    "#Printing the Results\n",
    "print(\"Policy Type with the Highest Number of Policies Sold:\", highest_policy_type)\n"
   ]
  },
  {
   "cell_type": "markdown",
   "id": "0b863fd3-bf91-4d5d-86eb-be29ed9f5b70",
   "metadata": {},
   "source": [
    "### Exercise 3\n",
    "\n",
    "The sales team wants to know if customers with Personal Auto have a lower income than those with Corporate Auto. How does the average income compare between the two policy types?"
   ]
  },
  {
   "cell_type": "markdown",
   "id": "b1386d75-2810-4aa1-93e0-9485aa12d552",
   "metadata": {},
   "source": [
    "- Use *loc* to create two dataframes: one containing only Personal Auto policies and one containing only Corporate Auto policies.\n",
    "- Calculate the average income for each policy.\n",
    "- Print the results."
   ]
  },
  {
   "cell_type": "code",
   "execution_count": 5,
   "id": "0c0563cf-6f8b-463d-a321-651a972f82e5",
   "metadata": {},
   "outputs": [
    {
     "name": "stdout",
     "output_type": "stream",
     "text": [
      "Average income for Personal Auto policies: 56175.0\n",
      "Average income for Corporate Auto policies: 71056.33333333333\n"
     ]
    }
   ],
   "source": [
    "# Your code here\n",
    "\n",
    "import pandas as pd\n",
    "\n",
    "#  Filter Personal Auto Policies\n",
    "personal_auto_df = df.loc[df['Policy Type'] == 'Personal Auto']\n",
    "\n",
    "# Filter Corporate Auto Policies\n",
    "corporate_auto_df = df.loc[df['Policy Type'] == 'Corporate Auto']\n",
    "\n",
    "# Average Income for Personal Auto Policies\n",
    "avg_income_personal_auto = personal_auto_df['Income'].mean()\n",
    "\n",
    "# Average Income for Corporate Auto Policies\n",
    "avg_income_corporate_auto = corporate_auto_df['Income'].mean()\n",
    "\n",
    "# Print the results\n",
    "print(\"Average income for Personal Auto policies:\", avg_income_personal_auto)\n",
    "print(\"Average income for Corporate Auto policies:\", avg_income_corporate_auto)\n"
   ]
  },
  {
   "cell_type": "markdown",
   "id": "80b16c27-f4a5-4727-a229-1f88671cf4e2",
   "metadata": {},
   "source": [
    "### Bonus: Exercise 4\n"
   ]
  },
  {
   "cell_type": "markdown",
   "id": "ac584986-299b-475f-ac2e-928c16c3f512",
   "metadata": {},
   "source": [
    "Your goal is to identify customers with a high policy claim amount.\n",
    "\n",
    "Instructions:\n",
    "\n",
    "- Review again the statistics for total claim amount to gain an understanding of the data.\n",
    "- To identify potential areas for improving customer retention and profitability, we want to focus on customers with a high policy claim amount. Consider customers with a high policy claim amount to be those in the top 25% of the total claim amount. Create a pandas DataFrame object that contains information about customers with a policy claim amount greater than the 75th percentile.\n",
    "- Use DataFrame methods to calculate summary statistics about the high policy claim amount data. "
   ]
  },
  {
   "cell_type": "markdown",
   "id": "4e3af5f1-6023-4b05-9c01-d05392daa650",
   "metadata": {},
   "source": [
    "*Note: When analyzing data, we often want to focus on certain groups of values to gain insights. Percentiles are a useful tool to help us define these groups. A percentile is a measure that tells us what percentage of values in a dataset are below a certain value. For example, the 75th percentile represents the value below which 75% of the data falls. Similarly, the 25th percentile represents the value below which 25% of the data falls. When we talk about the top 25%, we are referring to the values that fall above the 75th percentile, which represent the top quarter of the data. On the other hand, when we talk about the bottom 25%, we are referring to the values that fall below the 25th percentile, which represent the bottom quarter of the data. By focusing on these groups, we can identify patterns and trends that may be useful for making decisions and taking action.*\n",
    "\n",
    "*Hint: look for a method that gives you the percentile or quantile 0.75 and 0.25 for a Pandas Series.*"
   ]
  },
  {
   "cell_type": "markdown",
   "id": "2d234634-50bd-41e0-88f7-d5ba684455d1",
   "metadata": {},
   "source": [
    "*Hint 2: check `Boolean selection according to the values of a single column` in https://towardsdatascience.com/filtering-data-frames-in-pandas-b570b1f834b9*"
   ]
  },
  {
   "cell_type": "code",
   "execution_count": null,
   "id": "b731bca6-a760-4860-a27b-a33efa712ce0",
   "metadata": {},
   "outputs": [],
   "source": [
    "# Your code here"
   ]
  }
 ],
 "metadata": {
  "kernelspec": {
   "display_name": "Python 3 (ipykernel)",
   "language": "python",
   "name": "python3"
  },
  "language_info": {
   "codemirror_mode": {
    "name": "ipython",
    "version": 3
   },
   "file_extension": ".py",
   "mimetype": "text/x-python",
   "name": "python",
   "nbconvert_exporter": "python",
   "pygments_lexer": "ipython3",
   "version": "3.11.7"
  }
 },
 "nbformat": 4,
 "nbformat_minor": 5
}
